{
 "cells": [
  {
   "cell_type": "code",
   "execution_count": 1,
   "metadata": {},
   "outputs": [],
   "source": [
    "import numpy as np\n",
    "import tensorflow as tf"
   ]
  },
  {
   "cell_type": "code",
   "execution_count": 2,
   "metadata": {},
   "outputs": [],
   "source": [
    "#you have to specify the type\n",
    "A = tf.placeholder(tf.float32, shape=(5, 5), name='A')"
   ]
  },
  {
   "cell_type": "code",
   "execution_count": 3,
   "metadata": {},
   "outputs": [
    {
     "data": {
      "text/plain": [
       "<tf.Tensor 'A:0' shape=(5, 5) dtype=float32>"
      ]
     },
     "execution_count": 3,
     "metadata": {},
     "output_type": "execute_result"
    }
   ],
   "source": [
    "A"
   ]
  },
  {
   "cell_type": "code",
   "execution_count": 4,
   "metadata": {},
   "outputs": [],
   "source": [
    "#but shape and name are optional\n",
    "v = tf.placeholder(tf.float32)"
   ]
  },
  {
   "cell_type": "code",
   "execution_count": 5,
   "metadata": {},
   "outputs": [
    {
     "data": {
      "text/plain": [
       "<tf.Tensor 'Placeholder:0' shape=<unknown> dtype=float32>"
      ]
     },
     "execution_count": 5,
     "metadata": {},
     "output_type": "execute_result"
    }
   ],
   "source": [
    "v"
   ]
  },
  {
   "cell_type": "code",
   "execution_count": 6,
   "metadata": {},
   "outputs": [],
   "source": [
    "#I think this name is more appropriate than 'dot'\n",
    "w = tf.matmul(A, v)"
   ]
  },
  {
   "cell_type": "code",
   "execution_count": 7,
   "metadata": {},
   "outputs": [
    {
     "data": {
      "text/plain": [
       "<tf.Tensor 'MatMul:0' shape=<unknown> dtype=float32>"
      ]
     },
     "execution_count": 7,
     "metadata": {},
     "output_type": "execute_result"
    }
   ],
   "source": [
    "w"
   ]
  },
  {
   "cell_type": "code",
   "execution_count": 8,
   "metadata": {},
   "outputs": [
    {
     "name": "stdout",
     "output_type": "stream",
     "text": [
      "[[ 0.6197584 ]\n",
      " [-1.8995287 ]\n",
      " [ 0.01512572]\n",
      " [-1.2494631 ]\n",
      " [ 2.6028638 ]] <class 'numpy.ndarray'>\n"
     ]
    }
   ],
   "source": [
    "#similar to theano, you need to 'feed' the variables values\n",
    "#in tensorflow you do the 'actual work' in a session\n",
    "\n",
    "\n",
    "with tf.Session() as session:\n",
    "    # the values are fed in via the appropriately named argument 'feed_dict'\n",
    "    # v needs to be of shape=(5, 1) not just shape=(5, )\n",
    "    #it's more like 'real' matrix multiplication\n",
    "    output = session.run(w, feed_dict={A: np.random.randn(5,5), v: np.random.randn(5, 1)})\n",
    "    \n",
    "    \n",
    "    #what's this output that is returned by the session? let's print it\n",
    "    print(output, type(output))\n",
    "    \n",
    "    #luckily, the output type is just a numpy array. back to safety!"
   ]
  },
  {
   "cell_type": "code",
   "execution_count": 9,
   "metadata": {},
   "outputs": [],
   "source": [
    "# TensorFlow variables are like Theano shared variables.\n",
    "# But Theano variables are like TensorFlow placeholders.\n",
    "# Are you confused yet?\n",
    "\n",
    "\n",
    "# A tf variable can be initialized with a numpy array or a tf array\n",
    "# or more correctly, anything that can be turned into a tf tensor\n",
    "\n",
    "shape = (2, 2)\n",
    "x = tf.Variable(tf.random_normal(shape))\n",
    "#x = tf.Variable(np.random.randn(2, 2))\n",
    "t = tf.Variable(0)   # a scalar"
   ]
  },
  {
   "cell_type": "code",
   "execution_count": 10,
   "metadata": {},
   "outputs": [
    {
     "data": {
      "text/plain": [
       "<tf.Tensor 'random_normal_1:0' shape=(2, 2) dtype=float32>"
      ]
     },
     "execution_count": 10,
     "metadata": {},
     "output_type": "execute_result"
    }
   ],
   "source": [
    "tf.random_normal(shape)"
   ]
  },
  {
   "cell_type": "code",
   "execution_count": 11,
   "metadata": {},
   "outputs": [
    {
     "data": {
      "text/plain": [
       "<tf.Variable 'Variable:0' shape=(2, 2) dtype=float32_ref>"
      ]
     },
     "execution_count": 11,
     "metadata": {},
     "output_type": "execute_result"
    }
   ],
   "source": [
    "x"
   ]
  },
  {
   "cell_type": "code",
   "execution_count": 12,
   "metadata": {},
   "outputs": [
    {
     "data": {
      "text/plain": [
       "<tf.Variable 'Variable_1:0' shape=() dtype=int32_ref>"
      ]
     },
     "execution_count": 12,
     "metadata": {},
     "output_type": "execute_result"
    }
   ],
   "source": [
    "t"
   ]
  },
  {
   "cell_type": "code",
   "execution_count": 14,
   "metadata": {},
   "outputs": [],
   "source": [
    "# you need to 'initialize' the variables first\n",
    "init = tf.global_variables_initializer()"
   ]
  },
  {
   "cell_type": "code",
   "execution_count": 15,
   "metadata": {},
   "outputs": [
    {
     "data": {
      "text/plain": [
       "<tf.Operation 'init' type=NoOp>"
      ]
     },
     "execution_count": 15,
     "metadata": {},
     "output_type": "execute_result"
    }
   ],
   "source": [
    "init"
   ]
  },
  {
   "cell_type": "code",
   "execution_count": 16,
   "metadata": {},
   "outputs": [
    {
     "name": "stdout",
     "output_type": "stream",
     "text": [
      "None\n"
     ]
    }
   ],
   "source": [
    "with tf.Session() as session:\n",
    "    out = session.run(init)  # and then 'run' the init operation\n",
    "    print(out) #it's just None"
   ]
  },
  {
   "cell_type": "code",
   "execution_count": 17,
   "metadata": {},
   "outputs": [],
   "source": [
    "#let's mow try to find the minimum of a sample cost function like we did in Theano\n",
    "u = tf.Variable(20.0)\n",
    "cost = u*u + u + 1.0"
   ]
  },
  {
   "cell_type": "code",
   "execution_count": 18,
   "metadata": {},
   "outputs": [
    {
     "data": {
      "text/plain": [
       "<tf.Variable 'Variable_2:0' shape=() dtype=float32_ref>"
      ]
     },
     "execution_count": 18,
     "metadata": {},
     "output_type": "execute_result"
    }
   ],
   "source": [
    "u"
   ]
  },
  {
   "cell_type": "code",
   "execution_count": 19,
   "metadata": {},
   "outputs": [
    {
     "data": {
      "text/plain": [
       "<tf.Tensor 'add_1:0' shape=() dtype=float32>"
      ]
     },
     "execution_count": 19,
     "metadata": {},
     "output_type": "execute_result"
    }
   ],
   "source": [
    "cost"
   ]
  },
  {
   "cell_type": "code",
   "execution_count": 20,
   "metadata": {},
   "outputs": [],
   "source": [
    "# One difference between Theano and TensorFlow is that you don't write the updates\n",
    "# yourself in TensorFlow. You choose an optimizer that implements the algorithm you want.\n",
    "# 0.3 is the learning rate. Documentation lists the params.\n",
    "\n",
    "train_op = tf.train.GradientDescentOptimizer(0.3).minimize(cost)"
   ]
  },
  {
   "cell_type": "code",
   "execution_count": 21,
   "metadata": {},
   "outputs": [
    {
     "data": {
      "text/plain": [
       "<tf.Operation 'GradientDescent' type=NoOp>"
      ]
     },
     "execution_count": 21,
     "metadata": {},
     "output_type": "execute_result"
    }
   ],
   "source": [
    "train_op"
   ]
  },
  {
   "cell_type": "code",
   "execution_count": 22,
   "metadata": {},
   "outputs": [
    {
     "name": "stdout",
     "output_type": "stream",
     "text": [
      "i = 0, cost = 67.990, u = 7.700\n",
      "i = 1, cost = 11.508, u = 2.780\n",
      "i = 2, cost = 2.471, u = 0.812\n",
      "i = 3, cost = 1.025, u = 0.025\n",
      "i = 4, cost = 0.794, u = -0.290\n",
      "i = 5, cost = 0.757, u = -0.416\n",
      "i = 6, cost = 0.751, u = -0.466\n",
      "i = 7, cost = 0.750, u = -0.487\n",
      "i = 8, cost = 0.750, u = -0.495\n",
      "i = 9, cost = 0.750, u = -0.498\n",
      "i = 10, cost = 0.750, u = -0.499\n",
      "i = 11, cost = 0.750, u = -0.500\n"
     ]
    }
   ],
   "source": [
    "#let's run a session again\n",
    "init = tf.global_variables_initializer()\n",
    "with tf.Session() as session:\n",
    "    session.run(init)\n",
    "    \n",
    "    \n",
    "    # Strangely, while the weight update is automated, the loop itself is not.\n",
    "    # So we'll just call train_op until convergence.\n",
    "    # This is useful for us anyway since we want to track the cost function.\n",
    "    for i in range(12):\n",
    "        session.run(train_op)\n",
    "        print(\"i = %d, cost = %.3f, u = %.3f\" % (i, cost.eval(), u.eval()))"
   ]
  },
  {
   "cell_type": "code",
   "execution_count": null,
   "metadata": {},
   "outputs": [],
   "source": []
  }
 ],
 "metadata": {
  "kernelspec": {
   "display_name": "Python 3",
   "language": "python",
   "name": "python3"
  },
  "language_info": {
   "codemirror_mode": {
    "name": "ipython",
    "version": 3
   },
   "file_extension": ".py",
   "mimetype": "text/x-python",
   "name": "python",
   "nbconvert_exporter": "python",
   "pygments_lexer": "ipython3",
   "version": "3.7.4"
  }
 },
 "nbformat": 4,
 "nbformat_minor": 2
}
